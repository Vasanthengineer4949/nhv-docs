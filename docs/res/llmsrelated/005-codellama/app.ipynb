{
 "cells": [
  {
   "cell_type": "code",
   "execution_count": null,
   "metadata": {},
   "outputs": [],
   "source": [
    "import gradio as gr\n",
    "from ctransformers import AutoModelForCausalLM\n",
    "\n",
    "title = \"CodeLlama 7B GGUF Demo\"\n",
    "\n",
    "def load_model():\n",
    "    model = AutoModelForCausalLM.from_pretrained(\"codellama-7b-instruct.Q4_K_M.gguf\",\n",
    "    model_type='llama',\n",
    "    max_new_tokens = 64\n",
    "    )\n",
    "    return model\n",
    "\n",
    "def chat_with_model(inp_chat, chat_history):\n",
    "\n",
    "    model = load_model()\n",
    "    response = model(\n",
    "        inp_chat\n",
    "    )\n",
    "    return response\n",
    "\n",
    "examples = [\n",
    "    'Write the python code to train a linear regression model without using scikit-learn library.',\n",
    "    'Write a Python code to generate even numbers from 0 to n given numbers',\n",
    "    'Write a Python code to implement Stack data structure'\n",
    "]\n",
    "\n",
    "gr.ChatInterface(\n",
    "    fn=chat_with_model,\n",
    "    title=title,\n",
    "    examples=examples\n",
    ").launch()"
   ]
  }
 ],
 "metadata": {
  "language_info": {
   "name": "python"
  },
  "orig_nbformat": 4
 },
 "nbformat": 4,
 "nbformat_minor": 2
}
