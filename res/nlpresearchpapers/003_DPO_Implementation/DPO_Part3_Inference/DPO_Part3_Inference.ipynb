{
  "cells": [
    {
      "cell_type": "code",
      "execution_count": null,
      "metadata": {
        "colab": {
          "base_uri": "https://localhost:8080/"
        },
        "id": "uqXry2xfqw-i",
        "outputId": "50b86167-963d-4078-e48e-bcba46ba6d65"
      },
      "outputs": [],
      "source": [
        "! pip install transformers accelerate bitsandbytes peft"
      ]
    },
    {
      "cell_type": "code",
      "execution_count": null,
      "metadata": {
        "colab": {
          "base_uri": "https://localhost:8080/"
        },
        "id": "I2WsRzgarA5b",
        "outputId": "6775546e-7365-4fe8-b9bc-56cd023af74b"
      },
      "outputs": [],
      "source": [
        "from transformers import pipeline\n",
        "pipe = pipeline(\"text-generation\", \"Vasanth/dpo-santacoder1b\", max_length=256, top_p=0.9, device=\"cuda\", no_repeat_ngram_size=3)"
      ]
    },
    {
      "cell_type": "code",
      "execution_count": null,
      "metadata": {
        "colab": {
          "base_uri": "https://localhost:8080/"
        },
        "id": "D8d9EQwgsQTu",
        "outputId": "e00e7c13-085e-4412-e045-7749921f302c"
      },
      "outputs": [],
      "source": [
        "pipe(\"Human: Should you buy a case to protect your cell phone? Assistant:\")"
      ]
    },
    {
      "cell_type": "code",
      "execution_count": null,
      "metadata": {
        "id": "sDdNabiJrb3t"
      },
      "outputs": [],
      "source": [
        "from transformers import pipeline\n",
        "pipe1 = pipeline(\"text-generation\", \"TabbyML/SantaCoder-1B\", max_length=256, top_p=0.9, device=\"cuda\", no_repeat_ngram_size=3)"
      ]
    },
    {
      "cell_type": "code",
      "execution_count": null,
      "metadata": {
        "colab": {
          "base_uri": "https://localhost:8080/"
        },
        "id": "wO8o3scZsPxr",
        "outputId": "6c9536cc-b602-4232-c12f-996f79c51d85"
      },
      "outputs": [],
      "source": [
        "pipe1(\"Should you buy a case to protect your cell phone?\")"
      ]
    },
    {
      "cell_type": "code",
      "execution_count": null,
      "metadata": {
        "id": "EUbFLhtpt7Zp"
      },
      "outputs": [],
      "source": []
    }
  ],
  "metadata": {
    "accelerator": "GPU",
    "colab": {
      "gpuType": "T4",
      "provenance": []
    },
    "kernelspec": {
      "display_name": "Python 3",
      "name": "python3"
    },
    "language_info": {
      "name": "python"
    }
  },
  "nbformat": 4,
  "nbformat_minor": 0
}
